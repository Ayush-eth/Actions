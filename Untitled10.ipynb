{
  "nbformat": 4,
  "nbformat_minor": 0,
  "metadata": {
    "colab": {
      "provenance": [],
      "authorship_tag": "ABX9TyMes93Hs7XnbEsEqSliMcDt",
      "include_colab_link": true
    },
    "kernelspec": {
      "name": "python3",
      "display_name": "Python 3"
    },
    "language_info": {
      "name": "python"
    }
  },
  "cells": [
    {
      "cell_type": "markdown",
      "metadata": {
        "id": "view-in-github",
        "colab_type": "text"
      },
      "source": [
        "<a href=\"https://colab.research.google.com/github/TheArchitect19/Actions/blob/main/Untitled10.ipynb\" target=\"_parent\"><img src=\"https://colab.research.google.com/assets/colab-badge.svg\" alt=\"Open In Colab\"/></a>"
      ]
    },
    {
      "cell_type": "code",
      "execution_count": null,
      "metadata": {
        "id": "uK3OGRVEmS3l"
      },
      "outputs": [],
      "source": [
        "#Print fibonacci series using dp\n",
        "def fibo(n):\n",
        "  if n==1 :\n",
        "    return 0\n",
        "  if n==0 :\n",
        "    return 1\n",
        "\n",
        "  return fibo(n-1) + fibo(n-2)\n",
        "\n",
        "\n",
        "fibo(10)"
      ]
    },
    {
      "cell_type": "code",
      "source": [
        "\n"
      ],
      "metadata": {
        "id": "4hNan5Z4nt1Z"
      },
      "execution_count": 9,
      "outputs": []
    }
  ]
}